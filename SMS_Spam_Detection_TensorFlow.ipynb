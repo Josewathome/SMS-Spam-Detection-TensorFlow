{
  "cells": [
    {
      "cell_type": "markdown",
      "id": "2b4e80b4-a04e-4830-b2b6-0a4f479a1009",
      "metadata": {
        "id": "2b4e80b4-a04e-4830-b2b6-0a4f479a1009"
      },
      "source": [
        "# SMS SPAM DETECTION WITH TENSORFLOW."
      ]
    },
    {
      "cell_type": "markdown",
      "id": "b466244d-4756-428a-acae-9b7d468c5f14",
      "metadata": {
        "id": "b466244d-4756-428a-acae-9b7d468c5f14"
      },
      "source": [
        "IMPORTATION OF THE lIBRARIES"
      ]
    },
    {
      "cell_type": "code",
      "execution_count": 2,
      "id": "788ad318-8dc2-44a4-ac9d-65c35574d088",
      "metadata": {
        "id": "788ad318-8dc2-44a4-ac9d-65c35574d088"
      },
      "outputs": [],
      "source": [
        "import numpy as np\n",
        "import pandas as pd\n",
        "import matplotlib.pyplot as plt\n",
        "import seaborn as sns\n",
        "import tensorflow  as tf\n",
        "from tensorflow import keras\n",
        "from tensorflow.keras import layers"
      ]
    },
    {
      "cell_type": "markdown",
      "id": "7b88ddb2-31e5-4be5-bd3c-f97e9d829063",
      "metadata": {
        "id": "7b88ddb2-31e5-4be5-bd3c-f97e9d829063"
      },
      "source": [
        "### Loading dataset .read_csv()"
      ]
    },
    {
      "cell_type": "code",
      "source": [
        "# Using this to load the file from my External Hard drive AND Saving it to Uploaded\n",
        "from google.colab import files\n",
        "uploaded = files.upload()"
      ],
      "metadata": {
        "colab": {
          "base_uri": "https://localhost:8080/",
          "height": 73
        },
        "id": "hirop0dAIpg4",
        "outputId": "8447c87f-097d-44b7-b309-9b17a6579bd7"
      },
      "id": "hirop0dAIpg4",
      "execution_count": 12,
      "outputs": [
        {
          "output_type": "display_data",
          "data": {
            "text/plain": [
              "<IPython.core.display.HTML object>"
            ],
            "text/html": [
              "\n",
              "     <input type=\"file\" id=\"files-d602a095-9fe2-41d0-87c3-a421acd1ff6c\" name=\"files[]\" multiple disabled\n",
              "        style=\"border:none\" />\n",
              "     <output id=\"result-d602a095-9fe2-41d0-87c3-a421acd1ff6c\">\n",
              "      Upload widget is only available when the cell has been executed in the\n",
              "      current browser session. Please rerun this cell to enable.\n",
              "      </output>\n",
              "      <script>// Copyright 2017 Google LLC\n",
              "//\n",
              "// Licensed under the Apache License, Version 2.0 (the \"License\");\n",
              "// you may not use this file except in compliance with the License.\n",
              "// You may obtain a copy of the License at\n",
              "//\n",
              "//      http://www.apache.org/licenses/LICENSE-2.0\n",
              "//\n",
              "// Unless required by applicable law or agreed to in writing, software\n",
              "// distributed under the License is distributed on an \"AS IS\" BASIS,\n",
              "// WITHOUT WARRANTIES OR CONDITIONS OF ANY KIND, either express or implied.\n",
              "// See the License for the specific language governing permissions and\n",
              "// limitations under the License.\n",
              "\n",
              "/**\n",
              " * @fileoverview Helpers for google.colab Python module.\n",
              " */\n",
              "(function(scope) {\n",
              "function span(text, styleAttributes = {}) {\n",
              "  const element = document.createElement('span');\n",
              "  element.textContent = text;\n",
              "  for (const key of Object.keys(styleAttributes)) {\n",
              "    element.style[key] = styleAttributes[key];\n",
              "  }\n",
              "  return element;\n",
              "}\n",
              "\n",
              "// Max number of bytes which will be uploaded at a time.\n",
              "const MAX_PAYLOAD_SIZE = 100 * 1024;\n",
              "\n",
              "function _uploadFiles(inputId, outputId) {\n",
              "  const steps = uploadFilesStep(inputId, outputId);\n",
              "  const outputElement = document.getElementById(outputId);\n",
              "  // Cache steps on the outputElement to make it available for the next call\n",
              "  // to uploadFilesContinue from Python.\n",
              "  outputElement.steps = steps;\n",
              "\n",
              "  return _uploadFilesContinue(outputId);\n",
              "}\n",
              "\n",
              "// This is roughly an async generator (not supported in the browser yet),\n",
              "// where there are multiple asynchronous steps and the Python side is going\n",
              "// to poll for completion of each step.\n",
              "// This uses a Promise to block the python side on completion of each step,\n",
              "// then passes the result of the previous step as the input to the next step.\n",
              "function _uploadFilesContinue(outputId) {\n",
              "  const outputElement = document.getElementById(outputId);\n",
              "  const steps = outputElement.steps;\n",
              "\n",
              "  const next = steps.next(outputElement.lastPromiseValue);\n",
              "  return Promise.resolve(next.value.promise).then((value) => {\n",
              "    // Cache the last promise value to make it available to the next\n",
              "    // step of the generator.\n",
              "    outputElement.lastPromiseValue = value;\n",
              "    return next.value.response;\n",
              "  });\n",
              "}\n",
              "\n",
              "/**\n",
              " * Generator function which is called between each async step of the upload\n",
              " * process.\n",
              " * @param {string} inputId Element ID of the input file picker element.\n",
              " * @param {string} outputId Element ID of the output display.\n",
              " * @return {!Iterable<!Object>} Iterable of next steps.\n",
              " */\n",
              "function* uploadFilesStep(inputId, outputId) {\n",
              "  const inputElement = document.getElementById(inputId);\n",
              "  inputElement.disabled = false;\n",
              "\n",
              "  const outputElement = document.getElementById(outputId);\n",
              "  outputElement.innerHTML = '';\n",
              "\n",
              "  const pickedPromise = new Promise((resolve) => {\n",
              "    inputElement.addEventListener('change', (e) => {\n",
              "      resolve(e.target.files);\n",
              "    });\n",
              "  });\n",
              "\n",
              "  const cancel = document.createElement('button');\n",
              "  inputElement.parentElement.appendChild(cancel);\n",
              "  cancel.textContent = 'Cancel upload';\n",
              "  const cancelPromise = new Promise((resolve) => {\n",
              "    cancel.onclick = () => {\n",
              "      resolve(null);\n",
              "    };\n",
              "  });\n",
              "\n",
              "  // Wait for the user to pick the files.\n",
              "  const files = yield {\n",
              "    promise: Promise.race([pickedPromise, cancelPromise]),\n",
              "    response: {\n",
              "      action: 'starting',\n",
              "    }\n",
              "  };\n",
              "\n",
              "  cancel.remove();\n",
              "\n",
              "  // Disable the input element since further picks are not allowed.\n",
              "  inputElement.disabled = true;\n",
              "\n",
              "  if (!files) {\n",
              "    return {\n",
              "      response: {\n",
              "        action: 'complete',\n",
              "      }\n",
              "    };\n",
              "  }\n",
              "\n",
              "  for (const file of files) {\n",
              "    const li = document.createElement('li');\n",
              "    li.append(span(file.name, {fontWeight: 'bold'}));\n",
              "    li.append(span(\n",
              "        `(${file.type || 'n/a'}) - ${file.size} bytes, ` +\n",
              "        `last modified: ${\n",
              "            file.lastModifiedDate ? file.lastModifiedDate.toLocaleDateString() :\n",
              "                                    'n/a'} - `));\n",
              "    const percent = span('0% done');\n",
              "    li.appendChild(percent);\n",
              "\n",
              "    outputElement.appendChild(li);\n",
              "\n",
              "    const fileDataPromise = new Promise((resolve) => {\n",
              "      const reader = new FileReader();\n",
              "      reader.onload = (e) => {\n",
              "        resolve(e.target.result);\n",
              "      };\n",
              "      reader.readAsArrayBuffer(file);\n",
              "    });\n",
              "    // Wait for the data to be ready.\n",
              "    let fileData = yield {\n",
              "      promise: fileDataPromise,\n",
              "      response: {\n",
              "        action: 'continue',\n",
              "      }\n",
              "    };\n",
              "\n",
              "    // Use a chunked sending to avoid message size limits. See b/62115660.\n",
              "    let position = 0;\n",
              "    do {\n",
              "      const length = Math.min(fileData.byteLength - position, MAX_PAYLOAD_SIZE);\n",
              "      const chunk = new Uint8Array(fileData, position, length);\n",
              "      position += length;\n",
              "\n",
              "      const base64 = btoa(String.fromCharCode.apply(null, chunk));\n",
              "      yield {\n",
              "        response: {\n",
              "          action: 'append',\n",
              "          file: file.name,\n",
              "          data: base64,\n",
              "        },\n",
              "      };\n",
              "\n",
              "      let percentDone = fileData.byteLength === 0 ?\n",
              "          100 :\n",
              "          Math.round((position / fileData.byteLength) * 100);\n",
              "      percent.textContent = `${percentDone}% done`;\n",
              "\n",
              "    } while (position < fileData.byteLength);\n",
              "  }\n",
              "\n",
              "  // All done.\n",
              "  yield {\n",
              "    response: {\n",
              "      action: 'complete',\n",
              "    }\n",
              "  };\n",
              "}\n",
              "\n",
              "scope.google = scope.google || {};\n",
              "scope.google.colab = scope.google.colab || {};\n",
              "scope.google.colab._files = {\n",
              "  _uploadFiles,\n",
              "  _uploadFilesContinue,\n",
              "};\n",
              "})(self);\n",
              "</script> "
            ]
          },
          "metadata": {}
        },
        {
          "output_type": "stream",
          "name": "stdout",
          "text": [
            "Saving spam.csv to spam (2).csv\n"
          ]
        }
      ]
    },
    {
      "cell_type": "code",
      "execution_count": 16,
      "id": "59d47b7d-6f30-4630-a231-afab20f7f910",
      "metadata": {
        "colab": {
          "base_uri": "https://localhost:8080/",
          "height": 206
        },
        "id": "59d47b7d-6f30-4630-a231-afab20f7f910",
        "outputId": "b15519ec-af45-462b-e075-4f4d36cf7529"
      },
      "outputs": [
        {
          "output_type": "execute_result",
          "data": {
            "text/plain": [
              "     v1                                                 v2\n",
              "0   ham  Go until jurong point, crazy.. Available only ...\n",
              "1   ham                      Ok lar... Joking wif u oni...\n",
              "2  spam  Free entry in 2 a wkly comp to win FA Cup fina...\n",
              "3   ham  U dun say so early hor... U c already then say...\n",
              "4   ham  Nah I don't think he goes to usf, he lives aro..."
            ],
            "text/html": [
              "\n",
              "  <div id=\"df-4c728092-8550-495e-ad65-60faf79bb904\" class=\"colab-df-container\">\n",
              "    <div>\n",
              "<style scoped>\n",
              "    .dataframe tbody tr th:only-of-type {\n",
              "        vertical-align: middle;\n",
              "    }\n",
              "\n",
              "    .dataframe tbody tr th {\n",
              "        vertical-align: top;\n",
              "    }\n",
              "\n",
              "    .dataframe thead th {\n",
              "        text-align: right;\n",
              "    }\n",
              "</style>\n",
              "<table border=\"1\" class=\"dataframe\">\n",
              "  <thead>\n",
              "    <tr style=\"text-align: right;\">\n",
              "      <th></th>\n",
              "      <th>v1</th>\n",
              "      <th>v2</th>\n",
              "    </tr>\n",
              "  </thead>\n",
              "  <tbody>\n",
              "    <tr>\n",
              "      <th>0</th>\n",
              "      <td>ham</td>\n",
              "      <td>Go until jurong point, crazy.. Available only ...</td>\n",
              "    </tr>\n",
              "    <tr>\n",
              "      <th>1</th>\n",
              "      <td>ham</td>\n",
              "      <td>Ok lar... Joking wif u oni...</td>\n",
              "    </tr>\n",
              "    <tr>\n",
              "      <th>2</th>\n",
              "      <td>spam</td>\n",
              "      <td>Free entry in 2 a wkly comp to win FA Cup fina...</td>\n",
              "    </tr>\n",
              "    <tr>\n",
              "      <th>3</th>\n",
              "      <td>ham</td>\n",
              "      <td>U dun say so early hor... U c already then say...</td>\n",
              "    </tr>\n",
              "    <tr>\n",
              "      <th>4</th>\n",
              "      <td>ham</td>\n",
              "      <td>Nah I don't think he goes to usf, he lives aro...</td>\n",
              "    </tr>\n",
              "  </tbody>\n",
              "</table>\n",
              "</div>\n",
              "    <div class=\"colab-df-buttons\">\n",
              "\n",
              "  <div class=\"colab-df-container\">\n",
              "    <button class=\"colab-df-convert\" onclick=\"convertToInteractive('df-4c728092-8550-495e-ad65-60faf79bb904')\"\n",
              "            title=\"Convert this dataframe to an interactive table.\"\n",
              "            style=\"display:none;\">\n",
              "\n",
              "  <svg xmlns=\"http://www.w3.org/2000/svg\" height=\"24px\" viewBox=\"0 -960 960 960\">\n",
              "    <path d=\"M120-120v-720h720v720H120Zm60-500h600v-160H180v160Zm220 220h160v-160H400v160Zm0 220h160v-160H400v160ZM180-400h160v-160H180v160Zm440 0h160v-160H620v160ZM180-180h160v-160H180v160Zm440 0h160v-160H620v160Z\"/>\n",
              "  </svg>\n",
              "    </button>\n",
              "\n",
              "  <style>\n",
              "    .colab-df-container {\n",
              "      display:flex;\n",
              "      gap: 12px;\n",
              "    }\n",
              "\n",
              "    .colab-df-convert {\n",
              "      background-color: #E8F0FE;\n",
              "      border: none;\n",
              "      border-radius: 50%;\n",
              "      cursor: pointer;\n",
              "      display: none;\n",
              "      fill: #1967D2;\n",
              "      height: 32px;\n",
              "      padding: 0 0 0 0;\n",
              "      width: 32px;\n",
              "    }\n",
              "\n",
              "    .colab-df-convert:hover {\n",
              "      background-color: #E2EBFA;\n",
              "      box-shadow: 0px 1px 2px rgba(60, 64, 67, 0.3), 0px 1px 3px 1px rgba(60, 64, 67, 0.15);\n",
              "      fill: #174EA6;\n",
              "    }\n",
              "\n",
              "    .colab-df-buttons div {\n",
              "      margin-bottom: 4px;\n",
              "    }\n",
              "\n",
              "    [theme=dark] .colab-df-convert {\n",
              "      background-color: #3B4455;\n",
              "      fill: #D2E3FC;\n",
              "    }\n",
              "\n",
              "    [theme=dark] .colab-df-convert:hover {\n",
              "      background-color: #434B5C;\n",
              "      box-shadow: 0px 1px 3px 1px rgba(0, 0, 0, 0.15);\n",
              "      filter: drop-shadow(0px 1px 2px rgba(0, 0, 0, 0.3));\n",
              "      fill: #FFFFFF;\n",
              "    }\n",
              "  </style>\n",
              "\n",
              "    <script>\n",
              "      const buttonEl =\n",
              "        document.querySelector('#df-4c728092-8550-495e-ad65-60faf79bb904 button.colab-df-convert');\n",
              "      buttonEl.style.display =\n",
              "        google.colab.kernel.accessAllowed ? 'block' : 'none';\n",
              "\n",
              "      async function convertToInteractive(key) {\n",
              "        const element = document.querySelector('#df-4c728092-8550-495e-ad65-60faf79bb904');\n",
              "        const dataTable =\n",
              "          await google.colab.kernel.invokeFunction('convertToInteractive',\n",
              "                                                    [key], {});\n",
              "        if (!dataTable) return;\n",
              "\n",
              "        const docLinkHtml = 'Like what you see? Visit the ' +\n",
              "          '<a target=\"_blank\" href=https://colab.research.google.com/notebooks/data_table.ipynb>data table notebook</a>'\n",
              "          + ' to learn more about interactive tables.';\n",
              "        element.innerHTML = '';\n",
              "        dataTable['output_type'] = 'display_data';\n",
              "        await google.colab.output.renderOutput(dataTable, element);\n",
              "        const docLink = document.createElement('div');\n",
              "        docLink.innerHTML = docLinkHtml;\n",
              "        element.appendChild(docLink);\n",
              "      }\n",
              "    </script>\n",
              "  </div>\n",
              "\n",
              "\n",
              "<div id=\"df-a7953d0d-2d68-44fa-ab41-0008b2c27513\">\n",
              "  <button class=\"colab-df-quickchart\" onclick=\"quickchart('df-a7953d0d-2d68-44fa-ab41-0008b2c27513')\"\n",
              "            title=\"Suggest charts\"\n",
              "            style=\"display:none;\">\n",
              "\n",
              "<svg xmlns=\"http://www.w3.org/2000/svg\" height=\"24px\"viewBox=\"0 0 24 24\"\n",
              "     width=\"24px\">\n",
              "    <g>\n",
              "        <path d=\"M19 3H5c-1.1 0-2 .9-2 2v14c0 1.1.9 2 2 2h14c1.1 0 2-.9 2-2V5c0-1.1-.9-2-2-2zM9 17H7v-7h2v7zm4 0h-2V7h2v10zm4 0h-2v-4h2v4z\"/>\n",
              "    </g>\n",
              "</svg>\n",
              "  </button>\n",
              "\n",
              "<style>\n",
              "  .colab-df-quickchart {\n",
              "      --bg-color: #E8F0FE;\n",
              "      --fill-color: #1967D2;\n",
              "      --hover-bg-color: #E2EBFA;\n",
              "      --hover-fill-color: #174EA6;\n",
              "      --disabled-fill-color: #AAA;\n",
              "      --disabled-bg-color: #DDD;\n",
              "  }\n",
              "\n",
              "  [theme=dark] .colab-df-quickchart {\n",
              "      --bg-color: #3B4455;\n",
              "      --fill-color: #D2E3FC;\n",
              "      --hover-bg-color: #434B5C;\n",
              "      --hover-fill-color: #FFFFFF;\n",
              "      --disabled-bg-color: #3B4455;\n",
              "      --disabled-fill-color: #666;\n",
              "  }\n",
              "\n",
              "  .colab-df-quickchart {\n",
              "    background-color: var(--bg-color);\n",
              "    border: none;\n",
              "    border-radius: 50%;\n",
              "    cursor: pointer;\n",
              "    display: none;\n",
              "    fill: var(--fill-color);\n",
              "    height: 32px;\n",
              "    padding: 0;\n",
              "    width: 32px;\n",
              "  }\n",
              "\n",
              "  .colab-df-quickchart:hover {\n",
              "    background-color: var(--hover-bg-color);\n",
              "    box-shadow: 0 1px 2px rgba(60, 64, 67, 0.3), 0 1px 3px 1px rgba(60, 64, 67, 0.15);\n",
              "    fill: var(--button-hover-fill-color);\n",
              "  }\n",
              "\n",
              "  .colab-df-quickchart-complete:disabled,\n",
              "  .colab-df-quickchart-complete:disabled:hover {\n",
              "    background-color: var(--disabled-bg-color);\n",
              "    fill: var(--disabled-fill-color);\n",
              "    box-shadow: none;\n",
              "  }\n",
              "\n",
              "  .colab-df-spinner {\n",
              "    border: 2px solid var(--fill-color);\n",
              "    border-color: transparent;\n",
              "    border-bottom-color: var(--fill-color);\n",
              "    animation:\n",
              "      spin 1s steps(1) infinite;\n",
              "  }\n",
              "\n",
              "  @keyframes spin {\n",
              "    0% {\n",
              "      border-color: transparent;\n",
              "      border-bottom-color: var(--fill-color);\n",
              "      border-left-color: var(--fill-color);\n",
              "    }\n",
              "    20% {\n",
              "      border-color: transparent;\n",
              "      border-left-color: var(--fill-color);\n",
              "      border-top-color: var(--fill-color);\n",
              "    }\n",
              "    30% {\n",
              "      border-color: transparent;\n",
              "      border-left-color: var(--fill-color);\n",
              "      border-top-color: var(--fill-color);\n",
              "      border-right-color: var(--fill-color);\n",
              "    }\n",
              "    40% {\n",
              "      border-color: transparent;\n",
              "      border-right-color: var(--fill-color);\n",
              "      border-top-color: var(--fill-color);\n",
              "    }\n",
              "    60% {\n",
              "      border-color: transparent;\n",
              "      border-right-color: var(--fill-color);\n",
              "    }\n",
              "    80% {\n",
              "      border-color: transparent;\n",
              "      border-right-color: var(--fill-color);\n",
              "      border-bottom-color: var(--fill-color);\n",
              "    }\n",
              "    90% {\n",
              "      border-color: transparent;\n",
              "      border-bottom-color: var(--fill-color);\n",
              "    }\n",
              "  }\n",
              "</style>\n",
              "\n",
              "  <script>\n",
              "    async function quickchart(key) {\n",
              "      const quickchartButtonEl =\n",
              "        document.querySelector('#' + key + ' button');\n",
              "      quickchartButtonEl.disabled = true;  // To prevent multiple clicks.\n",
              "      quickchartButtonEl.classList.add('colab-df-spinner');\n",
              "      try {\n",
              "        const charts = await google.colab.kernel.invokeFunction(\n",
              "            'suggestCharts', [key], {});\n",
              "      } catch (error) {\n",
              "        console.error('Error during call to suggestCharts:', error);\n",
              "      }\n",
              "      quickchartButtonEl.classList.remove('colab-df-spinner');\n",
              "      quickchartButtonEl.classList.add('colab-df-quickchart-complete');\n",
              "    }\n",
              "    (() => {\n",
              "      let quickchartButtonEl =\n",
              "        document.querySelector('#df-a7953d0d-2d68-44fa-ab41-0008b2c27513 button');\n",
              "      quickchartButtonEl.style.display =\n",
              "        google.colab.kernel.accessAllowed ? 'block' : 'none';\n",
              "    })();\n",
              "  </script>\n",
              "</div>\n",
              "\n",
              "    </div>\n",
              "  </div>\n"
            ]
          },
          "metadata": {},
          "execution_count": 16
        }
      ],
      "source": [
        "# when we load the data we use .dropna(axis=1) to drop the unamed columns with null values.\n",
        "import io\n",
        "# I will use this io.BytesIO(uploaded['spam (2).csv']) to read the csv file from the io that i uploaded the file.\n",
        "df = pd.read_csv(io.BytesIO(uploaded['spam (2).csv']),encoding = 'latin-1').dropna(axis = 1)\n",
        "df.head()"
      ]
    },
    {
      "cell_type": "markdown",
      "id": "174f9612-d4da-4a0e-98e4-92d1f3a2020e",
      "metadata": {
        "id": "174f9612-d4da-4a0e-98e4-92d1f3a2020e"
      },
      "source": [
        "i will rename the columns v1 and v2 to label and Text respectively\n",
        "\n",
        "since the target variable is in string form I will encode it numerically using pandas function .map()"
      ]
    },
    {
      "cell_type": "code",
      "execution_count": 17,
      "id": "712ed2ea-7da2-49e7-99d8-bd49418bec5f",
      "metadata": {
        "colab": {
          "base_uri": "https://localhost:8080/",
          "height": 206
        },
        "id": "712ed2ea-7da2-49e7-99d8-bd49418bec5f",
        "outputId": "1b5a2882-afa4-479a-8eb4-7b2deafc06c4"
      },
      "outputs": [
        {
          "output_type": "execute_result",
          "data": {
            "text/plain": [
              "  label                                               Text  label_enc\n",
              "0   ham  Go until jurong point, crazy.. Available only ...          0\n",
              "1   ham                      Ok lar... Joking wif u oni...          0\n",
              "2  spam  Free entry in 2 a wkly comp to win FA Cup fina...          1\n",
              "3   ham  U dun say so early hor... U c already then say...          0\n",
              "4   ham  Nah I don't think he goes to usf, he lives aro...          0"
            ],
            "text/html": [
              "\n",
              "  <div id=\"df-fec87e04-abc0-4974-a2ad-e2279b379b9a\" class=\"colab-df-container\">\n",
              "    <div>\n",
              "<style scoped>\n",
              "    .dataframe tbody tr th:only-of-type {\n",
              "        vertical-align: middle;\n",
              "    }\n",
              "\n",
              "    .dataframe tbody tr th {\n",
              "        vertical-align: top;\n",
              "    }\n",
              "\n",
              "    .dataframe thead th {\n",
              "        text-align: right;\n",
              "    }\n",
              "</style>\n",
              "<table border=\"1\" class=\"dataframe\">\n",
              "  <thead>\n",
              "    <tr style=\"text-align: right;\">\n",
              "      <th></th>\n",
              "      <th>label</th>\n",
              "      <th>Text</th>\n",
              "      <th>label_enc</th>\n",
              "    </tr>\n",
              "  </thead>\n",
              "  <tbody>\n",
              "    <tr>\n",
              "      <th>0</th>\n",
              "      <td>ham</td>\n",
              "      <td>Go until jurong point, crazy.. Available only ...</td>\n",
              "      <td>0</td>\n",
              "    </tr>\n",
              "    <tr>\n",
              "      <th>1</th>\n",
              "      <td>ham</td>\n",
              "      <td>Ok lar... Joking wif u oni...</td>\n",
              "      <td>0</td>\n",
              "    </tr>\n",
              "    <tr>\n",
              "      <th>2</th>\n",
              "      <td>spam</td>\n",
              "      <td>Free entry in 2 a wkly comp to win FA Cup fina...</td>\n",
              "      <td>1</td>\n",
              "    </tr>\n",
              "    <tr>\n",
              "      <th>3</th>\n",
              "      <td>ham</td>\n",
              "      <td>U dun say so early hor... U c already then say...</td>\n",
              "      <td>0</td>\n",
              "    </tr>\n",
              "    <tr>\n",
              "      <th>4</th>\n",
              "      <td>ham</td>\n",
              "      <td>Nah I don't think he goes to usf, he lives aro...</td>\n",
              "      <td>0</td>\n",
              "    </tr>\n",
              "  </tbody>\n",
              "</table>\n",
              "</div>\n",
              "    <div class=\"colab-df-buttons\">\n",
              "\n",
              "  <div class=\"colab-df-container\">\n",
              "    <button class=\"colab-df-convert\" onclick=\"convertToInteractive('df-fec87e04-abc0-4974-a2ad-e2279b379b9a')\"\n",
              "            title=\"Convert this dataframe to an interactive table.\"\n",
              "            style=\"display:none;\">\n",
              "\n",
              "  <svg xmlns=\"http://www.w3.org/2000/svg\" height=\"24px\" viewBox=\"0 -960 960 960\">\n",
              "    <path d=\"M120-120v-720h720v720H120Zm60-500h600v-160H180v160Zm220 220h160v-160H400v160Zm0 220h160v-160H400v160ZM180-400h160v-160H180v160Zm440 0h160v-160H620v160ZM180-180h160v-160H180v160Zm440 0h160v-160H620v160Z\"/>\n",
              "  </svg>\n",
              "    </button>\n",
              "\n",
              "  <style>\n",
              "    .colab-df-container {\n",
              "      display:flex;\n",
              "      gap: 12px;\n",
              "    }\n",
              "\n",
              "    .colab-df-convert {\n",
              "      background-color: #E8F0FE;\n",
              "      border: none;\n",
              "      border-radius: 50%;\n",
              "      cursor: pointer;\n",
              "      display: none;\n",
              "      fill: #1967D2;\n",
              "      height: 32px;\n",
              "      padding: 0 0 0 0;\n",
              "      width: 32px;\n",
              "    }\n",
              "\n",
              "    .colab-df-convert:hover {\n",
              "      background-color: #E2EBFA;\n",
              "      box-shadow: 0px 1px 2px rgba(60, 64, 67, 0.3), 0px 1px 3px 1px rgba(60, 64, 67, 0.15);\n",
              "      fill: #174EA6;\n",
              "    }\n",
              "\n",
              "    .colab-df-buttons div {\n",
              "      margin-bottom: 4px;\n",
              "    }\n",
              "\n",
              "    [theme=dark] .colab-df-convert {\n",
              "      background-color: #3B4455;\n",
              "      fill: #D2E3FC;\n",
              "    }\n",
              "\n",
              "    [theme=dark] .colab-df-convert:hover {\n",
              "      background-color: #434B5C;\n",
              "      box-shadow: 0px 1px 3px 1px rgba(0, 0, 0, 0.15);\n",
              "      filter: drop-shadow(0px 1px 2px rgba(0, 0, 0, 0.3));\n",
              "      fill: #FFFFFF;\n",
              "    }\n",
              "  </style>\n",
              "\n",
              "    <script>\n",
              "      const buttonEl =\n",
              "        document.querySelector('#df-fec87e04-abc0-4974-a2ad-e2279b379b9a button.colab-df-convert');\n",
              "      buttonEl.style.display =\n",
              "        google.colab.kernel.accessAllowed ? 'block' : 'none';\n",
              "\n",
              "      async function convertToInteractive(key) {\n",
              "        const element = document.querySelector('#df-fec87e04-abc0-4974-a2ad-e2279b379b9a');\n",
              "        const dataTable =\n",
              "          await google.colab.kernel.invokeFunction('convertToInteractive',\n",
              "                                                    [key], {});\n",
              "        if (!dataTable) return;\n",
              "\n",
              "        const docLinkHtml = 'Like what you see? Visit the ' +\n",
              "          '<a target=\"_blank\" href=https://colab.research.google.com/notebooks/data_table.ipynb>data table notebook</a>'\n",
              "          + ' to learn more about interactive tables.';\n",
              "        element.innerHTML = '';\n",
              "        dataTable['output_type'] = 'display_data';\n",
              "        await google.colab.output.renderOutput(dataTable, element);\n",
              "        const docLink = document.createElement('div');\n",
              "        docLink.innerHTML = docLinkHtml;\n",
              "        element.appendChild(docLink);\n",
              "      }\n",
              "    </script>\n",
              "  </div>\n",
              "\n",
              "\n",
              "<div id=\"df-539f6311-8a25-45d3-82be-243699f98694\">\n",
              "  <button class=\"colab-df-quickchart\" onclick=\"quickchart('df-539f6311-8a25-45d3-82be-243699f98694')\"\n",
              "            title=\"Suggest charts\"\n",
              "            style=\"display:none;\">\n",
              "\n",
              "<svg xmlns=\"http://www.w3.org/2000/svg\" height=\"24px\"viewBox=\"0 0 24 24\"\n",
              "     width=\"24px\">\n",
              "    <g>\n",
              "        <path d=\"M19 3H5c-1.1 0-2 .9-2 2v14c0 1.1.9 2 2 2h14c1.1 0 2-.9 2-2V5c0-1.1-.9-2-2-2zM9 17H7v-7h2v7zm4 0h-2V7h2v10zm4 0h-2v-4h2v4z\"/>\n",
              "    </g>\n",
              "</svg>\n",
              "  </button>\n",
              "\n",
              "<style>\n",
              "  .colab-df-quickchart {\n",
              "      --bg-color: #E8F0FE;\n",
              "      --fill-color: #1967D2;\n",
              "      --hover-bg-color: #E2EBFA;\n",
              "      --hover-fill-color: #174EA6;\n",
              "      --disabled-fill-color: #AAA;\n",
              "      --disabled-bg-color: #DDD;\n",
              "  }\n",
              "\n",
              "  [theme=dark] .colab-df-quickchart {\n",
              "      --bg-color: #3B4455;\n",
              "      --fill-color: #D2E3FC;\n",
              "      --hover-bg-color: #434B5C;\n",
              "      --hover-fill-color: #FFFFFF;\n",
              "      --disabled-bg-color: #3B4455;\n",
              "      --disabled-fill-color: #666;\n",
              "  }\n",
              "\n",
              "  .colab-df-quickchart {\n",
              "    background-color: var(--bg-color);\n",
              "    border: none;\n",
              "    border-radius: 50%;\n",
              "    cursor: pointer;\n",
              "    display: none;\n",
              "    fill: var(--fill-color);\n",
              "    height: 32px;\n",
              "    padding: 0;\n",
              "    width: 32px;\n",
              "  }\n",
              "\n",
              "  .colab-df-quickchart:hover {\n",
              "    background-color: var(--hover-bg-color);\n",
              "    box-shadow: 0 1px 2px rgba(60, 64, 67, 0.3), 0 1px 3px 1px rgba(60, 64, 67, 0.15);\n",
              "    fill: var(--button-hover-fill-color);\n",
              "  }\n",
              "\n",
              "  .colab-df-quickchart-complete:disabled,\n",
              "  .colab-df-quickchart-complete:disabled:hover {\n",
              "    background-color: var(--disabled-bg-color);\n",
              "    fill: var(--disabled-fill-color);\n",
              "    box-shadow: none;\n",
              "  }\n",
              "\n",
              "  .colab-df-spinner {\n",
              "    border: 2px solid var(--fill-color);\n",
              "    border-color: transparent;\n",
              "    border-bottom-color: var(--fill-color);\n",
              "    animation:\n",
              "      spin 1s steps(1) infinite;\n",
              "  }\n",
              "\n",
              "  @keyframes spin {\n",
              "    0% {\n",
              "      border-color: transparent;\n",
              "      border-bottom-color: var(--fill-color);\n",
              "      border-left-color: var(--fill-color);\n",
              "    }\n",
              "    20% {\n",
              "      border-color: transparent;\n",
              "      border-left-color: var(--fill-color);\n",
              "      border-top-color: var(--fill-color);\n",
              "    }\n",
              "    30% {\n",
              "      border-color: transparent;\n",
              "      border-left-color: var(--fill-color);\n",
              "      border-top-color: var(--fill-color);\n",
              "      border-right-color: var(--fill-color);\n",
              "    }\n",
              "    40% {\n",
              "      border-color: transparent;\n",
              "      border-right-color: var(--fill-color);\n",
              "      border-top-color: var(--fill-color);\n",
              "    }\n",
              "    60% {\n",
              "      border-color: transparent;\n",
              "      border-right-color: var(--fill-color);\n",
              "    }\n",
              "    80% {\n",
              "      border-color: transparent;\n",
              "      border-right-color: var(--fill-color);\n",
              "      border-bottom-color: var(--fill-color);\n",
              "    }\n",
              "    90% {\n",
              "      border-color: transparent;\n",
              "      border-bottom-color: var(--fill-color);\n",
              "    }\n",
              "  }\n",
              "</style>\n",
              "\n",
              "  <script>\n",
              "    async function quickchart(key) {\n",
              "      const quickchartButtonEl =\n",
              "        document.querySelector('#' + key + ' button');\n",
              "      quickchartButtonEl.disabled = true;  // To prevent multiple clicks.\n",
              "      quickchartButtonEl.classList.add('colab-df-spinner');\n",
              "      try {\n",
              "        const charts = await google.colab.kernel.invokeFunction(\n",
              "            'suggestCharts', [key], {});\n",
              "      } catch (error) {\n",
              "        console.error('Error during call to suggestCharts:', error);\n",
              "      }\n",
              "      quickchartButtonEl.classList.remove('colab-df-spinner');\n",
              "      quickchartButtonEl.classList.add('colab-df-quickchart-complete');\n",
              "    }\n",
              "    (() => {\n",
              "      let quickchartButtonEl =\n",
              "        document.querySelector('#df-539f6311-8a25-45d3-82be-243699f98694 button');\n",
              "      quickchartButtonEl.style.display =\n",
              "        google.colab.kernel.accessAllowed ? 'block' : 'none';\n",
              "    })();\n",
              "  </script>\n",
              "</div>\n",
              "\n",
              "    </div>\n",
              "  </div>\n"
            ]
          },
          "metadata": {},
          "execution_count": 17
        }
      ],
      "source": [
        "df =  df.rename(columns = {'v1': 'label',\n",
        "                           'v2' : 'Text'})\n",
        "\n",
        "df['label_enc'] = df['label'].map({'ham': 0,\n",
        "                                   'spam':1})\n",
        "df.head()"
      ]
    },
    {
      "cell_type": "markdown",
      "id": "67eb3f76-c1ff-404a-9f0a-d1d44e1d2556",
      "metadata": {
        "id": "67eb3f76-c1ff-404a-9f0a-d1d44e1d2556"
      },
      "source": [
        "### LETS VISUALIZE THE DISTRIBUTION OF HAM AND SPAM DATA"
      ]
    },
    {
      "cell_type": "code",
      "execution_count": 18,
      "id": "bb8e6dc7-3243-48fc-b2cf-1da52134e4f0",
      "metadata": {
        "colab": {
          "base_uri": "https://localhost:8080/",
          "height": 450
        },
        "id": "bb8e6dc7-3243-48fc-b2cf-1da52134e4f0",
        "outputId": "a16053be-9cec-49b2-c1ef-06e21bc644b9"
      },
      "outputs": [
        {
          "output_type": "display_data",
          "data": {
            "text/plain": [
              "<Figure size 640x480 with 1 Axes>"
            ],
            "image/png": "[encoded data removed]"
          },
          "metadata": {}
        }
      ],
      "source": [
        "sns.countplot(x=df['label'])\n",
        "plt.show()"
      ]
    },
    {
      "cell_type": "markdown",
      "id": "742b05f4-b73a-418e-8b2a-f37c7867d8a5",
      "metadata": {
        "id": "742b05f4-b73a-418e-8b2a-f37c7867d8a5"
      },
      "source": [
        "## NB\n",
        "we can see that Ham data is comapratively higher than spam data, this is natural, since I will be using embeddings in our deep learning model, I do not have to balance the data. Now lets find the average number of words in all sentences in SMS data"
      ]
    },
    {
      "cell_type": "code",
      "execution_count": 19,
      "id": "b74fdfbc-f957-4e59-b0e6-285feb0cb697",
      "metadata": {
        "colab": {
          "base_uri": "https://localhost:8080/"
        },
        "id": "b74fdfbc-f957-4e59-b0e6-285feb0cb697",
        "outputId": "14cbdc4b-02c4-4869-f1e4-28853f8a4584"
      },
      "outputs": [
        {
          "output_type": "stream",
          "name": "stdout",
          "text": [
            "15\n"
          ]
        }
      ],
      "source": [
        "# Average number of tokens in all sentences\n",
        "avg_words_len = round(sum([len(i.split()) for i in df['Text']]) / len(df['Text']))\n",
        "\n",
        "print (avg_words_len)"
      ]
    },
    {
      "cell_type": "markdown",
      "id": "3bab44db-dcb9-47e6-9d7b-52e8e27a571e",
      "metadata": {
        "id": "3bab44db-dcb9-47e6-9d7b-52e8e27a571e"
      },
      "source": [
        "### Now lets find the Total number of unique words in Corpus\n"
      ]
    },
    {
      "cell_type": "code",
      "execution_count": 20,
      "id": "5045d3be-7480-4051-ac8d-9afa7bf3fc95",
      "metadata": {
        "colab": {
          "base_uri": "https://localhost:8080/"
        },
        "id": "5045d3be-7480-4051-ac8d-9afa7bf3fc95",
        "outputId": "d74ba0a3-0278-4d68-bf23-445d9a2c6b81"
      },
      "outputs": [
        {
          "output_type": "stream",
          "name": "stdout",
          "text": [
            "Total Words Length: 15585\n"
          ]
        }
      ],
      "source": [
        "s = set()\n",
        "for sent in df['Text']:\n",
        "    for word in sent.split():\n",
        "        s.add(word)\n",
        "\n",
        "total_words_length = len(s)\n",
        "print(f\"Total Words Length: {total_words_length}\")"
      ]
    },
    {
      "cell_type": "markdown",
      "id": "f167876b-8e66-40c1-90e1-cca6b68407b1",
      "metadata": {
        "id": "f167876b-8e66-40c1-90e1-cca6b68407b1"
      },
      "source": [
        "## SPLIT DATA INTO TRAINING AND TESTING PARTS"
      ]
    },
    {
      "cell_type": "code",
      "execution_count": 21,
      "id": "5a433b71-eeb1-4516-9f4c-184187b5e976",
      "metadata": {
        "colab": {
          "base_uri": "https://localhost:8080/"
        },
        "id": "5a433b71-eeb1-4516-9f4c-184187b5e976",
        "outputId": "8e28c43b-f9d7-48cb-f94a-fc77db4848ef"
      },
      "outputs": [
        {
          "output_type": "execute_result",
          "data": {
            "text/plain": [
              "((4457,), (4457,), (1115,), (1115,))"
            ]
          },
          "metadata": {},
          "execution_count": 21
        }
      ],
      "source": [
        "from sklearn.model_selection import train_test_split, cross_val_score\n",
        "\n",
        "X, y = np.asanyarray(df['Text']),  np.asanyarray(df['label_enc'])\n",
        "new_df = pd.DataFrame({'Text': X, 'label' : y})\n",
        "\n",
        "X_train, X_test, y_train, y_test = train_test_split(new_df['Text'], new_df['label'],\n",
        "                                                    test_size = 0.2, random_state = 42)\n",
        "\n",
        "X_train.shape, y_train.shape, X_test.shape, y_test.shape\n",
        ""
      ]
    },
    {
      "cell_type": "markdown",
      "id": "39bce46c-92bb-426a-9cfc-184e84c43e46",
      "metadata": {
        "id": "39bce46c-92bb-426a-9cfc-184e84c43e46"
      },
      "source": [
        "# Building The Model\n",
        "first I will build a baseline model and then try to beat the performance of the baseline using deep learning models *(embeddings, LSTM and others)*\n",
        "\n",
        "I will use **MultinomialNB()**, this performs very well for text Classififcation when featurs are dicrete like word counts of the words or **tf-idf vectors** (this is a measure that tells us how important or relevant a word is in the document)"
      ]
    },
    {
      "cell_type": "code",
      "execution_count": 22,
      "id": "2b8874c9-3c81-43e6-bd97-76a82e99f881",
      "metadata": {
        "id": "2b8874c9-3c81-43e6-bd97-76a82e99f881"
      },
      "outputs": [],
      "source": [
        "from sklearn.feature_extraction.text import TfidfVectorizer\n",
        "from sklearn.naive_bayes import MultinomialNB\n",
        "from sklearn.metrics import classification_report, accuracy_score, confusion_matrix"
      ]
    },
    {
      "cell_type": "code",
      "execution_count": 23,
      "id": "d6d54268-7c5d-4a25-a949-4defb0927d4f",
      "metadata": {
        "colab": {
          "base_uri": "https://localhost:8080/",
          "height": 74
        },
        "id": "d6d54268-7c5d-4a25-a949-4defb0927d4f",
        "outputId": "e5425a76-6ccb-49f4-c2a4-323428c5a1c2"
      },
      "outputs": [
        {
          "output_type": "execute_result",
          "data": {
            "text/plain": [
              "MultinomialNB()"
            ],
            "text/html": [
              "<style>#sk-container-id-1 {color: black;background-color: white;}#sk-container-id-1 pre{padding: 0;}#sk-container-id-1 div.sk-toggleable {background-color: white;}#sk-container-id-1 label.sk-toggleable__label {cursor: pointer;display: block;width: 100%;margin-bottom: 0;padding: 0.3em;box-sizing: border-box;text-align: center;}#sk-container-id-1 label.sk-toggleable__label-arrow:before {content: \"▸\";float: left;margin-right: 0.25em;color: #696969;}#sk-container-id-1 label.sk-toggleable__label-arrow:hover:before {color: black;}#sk-container-id-1 div.sk-estimator:hover label.sk-toggleable__label-arrow:before {color: black;}#sk-container-id-1 div.sk-toggleable__content {max-height: 0;max-width: 0;overflow: hidden;text-align: left;background-color: #f0f8ff;}#sk-container-id-1 div.sk-toggleable__content pre {margin: 0.2em;color: black;border-radius: 0.25em;background-color: #f0f8ff;}#sk-container-id-1 input.sk-toggleable__control:checked~div.sk-toggleable__content {max-height: 200px;max-width: 100%;overflow: auto;}#sk-container-id-1 input.sk-toggleable__control:checked~label.sk-toggleable__label-arrow:before {content: \"▾\";}#sk-container-id-1 div.sk-estimator input.sk-toggleable__control:checked~label.sk-toggleable__label {background-color: #d4ebff;}#sk-container-id-1 div.sk-label input.sk-toggleable__control:checked~label.sk-toggleable__label {background-color: #d4ebff;}#sk-container-id-1 input.sk-hidden--visually {border: 0;clip: rect(1px 1px 1px 1px);clip: rect(1px, 1px, 1px, 1px);height: 1px;margin: -1px;overflow: hidden;padding: 0;position: absolute;width: 1px;}#sk-container-id-1 div.sk-estimator {font-family: monospace;background-color: #f0f8ff;border: 1px dotted black;border-radius: 0.25em;box-sizing: border-box;margin-bottom: 0.5em;}#sk-container-id-1 div.sk-estimator:hover {background-color: #d4ebff;}#sk-container-id-1 div.sk-parallel-item::after {content: \"\";width: 100%;border-bottom: 1px solid gray;flex-grow: 1;}#sk-container-id-1 div.sk-label:hover label.sk-toggleable__label {background-color: #d4ebff;}#sk-container-id-1 div.sk-serial::before {content: \"\";position: absolute;border-left: 1px solid gray;box-sizing: border-box;top: 0;bottom: 0;left: 50%;z-index: 0;}#sk-container-id-1 div.sk-serial {display: flex;flex-direction: column;align-items: center;background-color: white;padding-right: 0.2em;padding-left: 0.2em;position: relative;}#sk-container-id-1 div.sk-item {position: relative;z-index: 1;}#sk-container-id-1 div.sk-parallel {display: flex;align-items: stretch;justify-content: center;background-color: white;position: relative;}#sk-container-id-1 div.sk-item::before, #sk-container-id-1 div.sk-parallel-item::before {content: \"\";position: absolute;border-left: 1px solid gray;box-sizing: border-box;top: 0;bottom: 0;left: 50%;z-index: -1;}#sk-container-id-1 div.sk-parallel-item {display: flex;flex-direction: column;z-index: 1;position: relative;background-color: white;}#sk-container-id-1 div.sk-parallel-item:first-child::after {align-self: flex-end;width: 50%;}#sk-container-id-1 div.sk-parallel-item:last-child::after {align-self: flex-start;width: 50%;}#sk-container-id-1 div.sk-parallel-item:only-child::after {width: 0;}#sk-container-id-1 div.sk-dashed-wrapped {border: 1px dashed gray;margin: 0 0.4em 0.5em 0.4em;box-sizing: border-box;padding-bottom: 0.4em;background-color: white;}#sk-container-id-1 div.sk-label label {font-family: monospace;font-weight: bold;display: inline-block;line-height: 1.2em;}#sk-container-id-1 div.sk-label-container {text-align: center;}#sk-container-id-1 div.sk-container {/* jupyter's `normalize.less` sets `[hidden] { display: none; }` but bootstrap.min.css set `[hidden] { display: none !important; }` so we also need the `!important` here to be able to override the default hidden behavior on the sphinx rendered scikit-learn.org. See: https://github.com/scikit-learn/scikit-learn/issues/21755 */display: inline-block !important;position: relative;}#sk-container-id-1 div.sk-text-repr-fallback {display: none;}</style><div id=\"sk-container-id-1\" class=\"sk-top-container\"><div class=\"sk-text-repr-fallback\"><pre>MultinomialNB()</pre><b>In a Jupyter environment, please rerun this cell to show the HTML representation or trust the notebook. <br />On GitHub, the HTML representation is unable to render, please try loading this page with nbviewer.org.</b></div><div class=\"sk-container\" hidden><div class=\"sk-item\"><div class=\"sk-estimator sk-toggleable\"><input class=\"sk-toggleable__control sk-hidden--visually\" id=\"sk-estimator-id-1\" type=\"checkbox\" checked><label for=\"sk-estimator-id-1\" class=\"sk-toggleable__label sk-toggleable__label-arrow\">MultinomialNB</label><div class=\"sk-toggleable__content\"><pre>MultinomialNB()</pre></div></div></div></div></div>"
            ]
          },
          "metadata": {},
          "execution_count": 23
        }
      ],
      "source": [
        "tfidf_vec = TfidfVectorizer().fit(X_train)\n",
        "\n",
        "X_train_vec, X_test_vec = tfidf_vec.transform(X_train), tfidf_vec.transform(X_test)\n",
        "\n",
        "\n",
        "baseline_model = MultinomialNB()\n",
        "baseline_model.fit(X_train_vec, y_train)"
      ]
    },
    {
      "cell_type": "markdown",
      "id": "5cfe051c-eccf-413f-8031-f06cd3eedfd0",
      "metadata": {
        "id": "5cfe051c-eccf-413f-8031-f06cd3eedfd0"
      },
      "source": [
        "## Performance  of baseline model"
      ]
    },
    {
      "cell_type": "code",
      "execution_count": 24,
      "id": "a9333a77-8c60-4bb7-9796-6dfcbb81f96f",
      "metadata": {
        "colab": {
          "base_uri": "https://localhost:8080/",
          "height": 734
        },
        "id": "a9333a77-8c60-4bb7-9796-6dfcbb81f96f",
        "outputId": "566f6ed9-87bd-416f-f91c-f529ccb869e8"
      },
      "outputs": [
        {
          "output_type": "stream",
          "name": "stdout",
          "text": [
            "Accuracy on Train Data: 97.28516939645502\n",
            "Accuracy on Test Data : 96.23318385650225\n"
          ]
        },
        {
          "output_type": "display_data",
          "data": {
            "text/plain": [
              "<Figure size 1200x800 with 2 Axes>"
            ],
            "image/png": "[encoded data removed]"
          },
          "metadata": {}
        }
      ],
      "source": [
        "preds = baseline_model.predict(X_test_vec)\n",
        "\n",
        "#using the K-fold for cross validation\n",
        "\n",
        "def cv_scoring(estimator, X, y):\n",
        "    return accuracy_score(y, estimator.predict(X))\n",
        "\n",
        "\n",
        "print(f\"Accuracy on Train Data: {accuracy_score(y_train, baseline_model.predict(X_train_vec))*100}\")\n",
        "\n",
        "print(f\"Accuracy on Test Data : {accuracy_score(y_test, preds)*100}\")\n",
        "\n",
        "# The Confusion Matrix\n",
        "\n",
        "cf_matrix = confusion_matrix(y_test, preds)\n",
        "plt.figure(figsize = (12,8))\n",
        "sns.heatmap(cf_matrix, annot = True)\n",
        "plt.title(\"Confusion Matrix for the Baseline Model on Test Data\")\n",
        "plt.show()"
      ]
    },
    {
      "cell_type": "markdown",
      "id": "8a367414-a676-4c13-97d5-0c1ae7c02821",
      "metadata": {
        "id": "8a367414-a676-4c13-97d5-0c1ae7c02821"
      },
      "source": [
        "## Model 1: Creating custom Text Vectoriation and embeding layers:\n",
        "\n",
        "    - **Text vectorization** is turning text into numerical representation. example **Bag of words frequency, Binary Term frequency, etc**\n",
        "    - **Word Embedding** this is a learned representation of text in which words with related meanings have similar representations. each word assigned a single vector, this vectores are learned by a neural Network.\n",
        "\n",
        "### Custom Text Vectorization layer (**TensorFlow**)"
      ]
    },
    {
      "cell_type": "code",
      "execution_count": 25,
      "id": "cc08599d-302b-4779-a736-08e719451b90",
      "metadata": {
        "id": "cc08599d-302b-4779-a736-08e719451b90"
      },
      "outputs": [],
      "source": [
        "from tensorflow.keras.layers import TextVectorization\n",
        "MAXTOKENS = total_words_length\n",
        "OUTPUTLEN = avg_words_len\n",
        "\n",
        "text_vec = TextVectorization(max_tokens = MAXTOKENS,\n",
        "                             standardize = 'lower_and_strip_punctuation',\n",
        "                             output_mode = 'int',\n",
        "                             output_sequence_length = OUTPUTLEN )\n",
        "\n",
        "text_vec.adapt(X_train)\n",
        "\n"
      ]
    },
    {
      "cell_type": "markdown",
      "id": "ec964a81-ac8d-4690-9d9b-ba6e68e1c8f0",
      "metadata": {
        "id": "ec964a81-ac8d-4690-9d9b-ba6e68e1c8f0"
      },
      "source": [
        "### Create an embedding layer"
      ]
    },
    {
      "cell_type": "code",
      "execution_count": 26,
      "id": "44914918-f37a-428d-8ecd-0cfe264f0f6e",
      "metadata": {
        "id": "44914918-f37a-428d-8ecd-0cfe264f0f6e"
      },
      "outputs": [],
      "source": [
        "embedding_layer =layers.Embedding(input_dim = MAXTOKENS,\n",
        "                                  output_dim = 128,\n",
        "                                  embeddings_initializer = 'uniform',\n",
        "                                  input_length = OUTPUTLEN )\n",
        "\n"
      ]
    },
    {
      "cell_type": "markdown",
      "id": "4fc3dfbd-a9e7-4550-b650-61bd361a9bb2",
      "metadata": {
        "id": "4fc3dfbd-a9e7-4550-b650-61bd361a9bb2"
      },
      "source": [
        "input_dim is the size of vocabulary.\n",
        "    \n",
        "output_dim is the dimension of the embedding layer i.e, the size of the vector in which the words will be embedde.\n",
        "\n",
        "\n",
        "\n",
        "input_length is the length of input sequenc.es"
      ]
    },
    {
      "cell_type": "markdown",
      "id": "baf4c189-53c4-45e6-b151-4389e6677cff",
      "metadata": {
        "id": "baf4c189-53c4-45e6-b151-4389e6677cff"
      },
      "source": [
        "### Now lets build and compile model 1 using tensorflow functional API"
      ]
    },
    {
      "cell_type": "code",
      "execution_count": 27,
      "id": "2315401c-d03d-4e25-ad62-ef71f447ed06",
      "metadata": {
        "id": "2315401c-d03d-4e25-ad62-ef71f447ed06"
      },
      "outputs": [],
      "source": [
        "input_layer = layers.Input(shape= (1,), dtype = tf.string)\n",
        "vec_layer = text_vec(input_layer)\n",
        "embedding_layer_model = embedding_layer(vec_layer)\n",
        "x = layers.GlobalAveragePooling1D()(embedding_layer_model)\n",
        "x = layers.Flatten()(x)\n",
        "x = layers.Dense(32, activation = 'relu')(x)\n",
        "output_layer = layers.Dense(1, activation = 'sigmoid')(x)\n",
        "model_1 = keras.Model(input_layer, output_layer)\n",
        "\n",
        "model_1.compile(optimizer = 'adam', loss= keras.losses.BinaryCrossentropy(label_smoothing = 0.5),\n",
        "                                                                          metrics = ['accuracy'])\n"
      ]
    },
    {
      "cell_type": "code",
      "execution_count": 28,
      "id": "82855db4-1b9a-44ad-b33d-6aec79ad9edb",
      "metadata": {
        "colab": {
          "base_uri": "https://localhost:8080/"
        },
        "id": "82855db4-1b9a-44ad-b33d-6aec79ad9edb",
        "outputId": "d1aff525-08c1-4e1b-c3b6-144679d29401"
      },
      "outputs": [
        {
          "output_type": "stream",
          "name": "stdout",
          "text": [
            "Model: \"model\"\n",
            "_________________________________________________________________\n",
            " Layer (type)                Output Shape              Param #   \n",
            "=================================================================\n",
            " input_1 (InputLayer)        [(None, 1)]               0         \n",
            "                                                                 \n",
            " text_vectorization (TextVe  (None, 15)                0         \n",
            " ctorization)                                                    \n",
            "                                                                 \n",
            " embedding (Embedding)       (None, 15, 128)           1994880   \n",
            "                                                                 \n",
            " global_average_pooling1d (  (None, 128)               0         \n",
            " GlobalAveragePooling1D)                                         \n",
            "                                                                 \n",
            " flatten (Flatten)           (None, 128)               0         \n",
            "                                                                 \n",
            " dense (Dense)               (None, 32)                4128      \n",
            "                                                                 \n",
            " dense_1 (Dense)             (None, 1)                 33        \n",
            "                                                                 \n",
            "=================================================================\n",
            "Total params: 1999041 (7.63 MB)\n",
            "Trainable params: 1999041 (7.63 MB)\n",
            "Non-trainable params: 0 (0.00 Byte)\n",
            "_________________________________________________________________\n"
          ]
        }
      ],
      "source": [
        "# The model summary\n",
        "model_1.summary()"
      ]
    },
    {
      "cell_type": "markdown",
      "id": "f161eead-56a2-429c-a0da-288f4b18f7fa",
      "metadata": {
        "id": "f161eead-56a2-429c-a0da-288f4b18f7fa"
      },
      "source": [
        "## CallBack\n",
        "lets check and controll the models performance\n"
      ]
    },
    {
      "cell_type": "code",
      "execution_count": 29,
      "id": "8cabfbb6-2ed6-4f72-b77f-7359df5f3a92",
      "metadata": {
        "id": "8cabfbb6-2ed6-4f72-b77f-7359df5f3a92"
      },
      "outputs": [],
      "source": [
        "from keras.callbacks import EarlyStopping, ReduceLROnPlateau\n",
        "\n",
        "es = EarlyStopping(patience = 6,\n",
        "                   monitor = 'val_accuracy',\n",
        "                   restore_best_weights = True)\n",
        "\n",
        "lr = ReduceLROnPlateau(patience = 2,\n",
        "                       monitor = 'val_loss',\n",
        "                       factor = 0.5,\n",
        "                       verbose = 0)"
      ]
    },
    {
      "cell_type": "markdown",
      "id": "62d47051-e54c-4dfd-8127-7a9c3be80c05",
      "metadata": {
        "id": "62d47051-e54c-4dfd-8127-7a9c3be80c05"
      },
      "source": [
        "## Training the model_1"
      ]
    },
    {
      "cell_type": "code",
      "execution_count": 30,
      "id": "b0b0cba1-1238-47d1-9fbc-e1974c408eb1",
      "metadata": {
        "colab": {
          "base_uri": "https://localhost:8080/"
        },
        "id": "b0b0cba1-1238-47d1-9fbc-e1974c408eb1",
        "outputId": "f1abc423-5f52-4feb-c56e-554e398d276b"
      },
      "outputs": [
        {
          "output_type": "stream",
          "name": "stdout",
          "text": [
            "Epoch 1/20\n",
            "140/140 [==============================] - 5s 29ms/step - loss: 0.6060 - accuracy: 0.9053 - val_loss: 0.5775 - val_accuracy: 0.9740 - lr: 0.0010\n",
            "Epoch 2/20\n",
            "140/140 [==============================] - 5s 34ms/step - loss: 0.5702 - accuracy: 0.9874 - val_loss: 0.5735 - val_accuracy: 0.9803 - lr: 0.0010\n",
            "Epoch 3/20\n",
            "140/140 [==============================] - 4s 27ms/step - loss: 0.5656 - accuracy: 0.9955 - val_loss: 0.5726 - val_accuracy: 0.9830 - lr: 0.0010\n",
            "Epoch 4/20\n",
            "140/140 [==============================] - 4s 26ms/step - loss: 0.5641 - accuracy: 0.9982 - val_loss: 0.5724 - val_accuracy: 0.9830 - lr: 0.0010\n",
            "Epoch 5/20\n",
            "140/140 [==============================] - 5s 32ms/step - loss: 0.5633 - accuracy: 0.9991 - val_loss: 0.5726 - val_accuracy: 0.9803 - lr: 0.0010\n",
            "Epoch 6/20\n",
            "140/140 [==============================] - 4s 28ms/step - loss: 0.5630 - accuracy: 0.9998 - val_loss: 0.5726 - val_accuracy: 0.9803 - lr: 0.0010\n",
            "Epoch 7/20\n",
            "140/140 [==============================] - 4s 28ms/step - loss: 0.5628 - accuracy: 0.9998 - val_loss: 0.5725 - val_accuracy: 0.9803 - lr: 5.0000e-04\n",
            "Epoch 8/20\n",
            "140/140 [==============================] - 5s 33ms/step - loss: 0.5626 - accuracy: 0.9998 - val_loss: 0.5726 - val_accuracy: 0.9803 - lr: 5.0000e-04\n",
            "Epoch 9/20\n",
            "140/140 [==============================] - 4s 27ms/step - loss: 0.5625 - accuracy: 1.0000 - val_loss: 0.5727 - val_accuracy: 0.9803 - lr: 2.5000e-04\n"
          ]
        }
      ],
      "source": [
        "history = model_1.fit(X_train, y_train, validation_data=(X_test, y_test),\n",
        "                      epochs = 20,\n",
        "                      batch_size = 32,\n",
        "                      callbacks = [lr,es])"
      ]
    },
    {
      "cell_type": "markdown",
      "id": "c5786091-bfd2-467a-affa-d97ba94ed09f",
      "metadata": {
        "id": "c5786091-bfd2-467a-affa-d97ba94ed09f"
      },
      "source": [
        "### Ploting the models history"
      ]
    },
    {
      "cell_type": "code",
      "execution_count": 31,
      "id": "34d540e1-ba81-4e17-91e8-681bdcb7c0db",
      "metadata": {
        "colab": {
          "base_uri": "https://localhost:8080/",
          "height": 507
        },
        "id": "34d540e1-ba81-4e17-91e8-681bdcb7c0db",
        "outputId": "17373dff-4c63-4376-ddb6-7cdb545f5514"
      },
      "outputs": [
        {
          "output_type": "stream",
          "name": "stdout",
          "text": [
            "Train Accuracy:  100.0 %\n",
            "Train Loss:  56.25426173210144 %\n"
          ]
        },
        {
          "output_type": "display_data",
          "data": {
            "text/plain": [
              "<Figure size 640x480 with 1 Axes>"
            ],
            "image/png": "[encoded data removed]"
          },
          "metadata": {}
        }
      ],
      "source": [
        "print('Train Accuracy: ', np.max(history.history['accuracy'] )*100, '%')\n",
        "print('Train Loss: ', np.min(history.history['loss'])*100,'%')\n",
        "\n",
        "plt.plot(history.history['accuracy'],label = 'Training Accuracy')\n",
        "plt.plot(history.history['loss'],label = 'Training Loss')\n",
        "plt.title('Model training')\n",
        "plt.ylabel('Accuracy')\n",
        "plt.xlabel('Epoch')\n",
        "plt.legend()\n",
        "plt.show()"
      ]
    },
    {
      "cell_type": "markdown",
      "id": "1e194b01-25d2-464b-b86e-e463221b46ba",
      "metadata": {
        "id": "1e194b01-25d2-464b-b86e-e463221b46ba"
      },
      "source": [
        "### Helper function for compiling fitting and evaluating the model"
      ]
    },
    {
      "cell_type": "code",
      "execution_count": 32,
      "id": "1c170a99-0466-4f03-b668-2760c355eccc",
      "metadata": {
        "id": "1c170a99-0466-4f03-b668-2760c355eccc"
      },
      "outputs": [],
      "source": [
        "from sklearn.metrics import precision_score, recall_score, f1_score\n",
        "\n",
        "def compile_model(model):\n",
        "    # Simply compile the model with adam optimizer\n",
        "    model.compile(optimizer = keras.optimizers.Adam(),\n",
        "                  loss = keras.losses.BinaryCrossentropy(),\n",
        "                  metrics = ['accuracy'])\n",
        "\n",
        "def fit_model(model, epochs, X_train = X_train, y_train = y_train,  X_test = X_test, y_test = y_test):\n",
        "    # fi the model with the given epochs, training and test data\n",
        "    history = model.fit(X_train,\n",
        "                        y_train,\n",
        "                        epochs = epochs,\n",
        "                        validation_data=(X_test, y_test),\n",
        "                        validation_steps=int(0.2*len(X_test)),\n",
        "                       callbacks = [lr,es])\n",
        "    print('Train Accuracy: ', np.max(history.history['accuracy'] )*100, '%')\n",
        "    print('Train Loss: ', np.min(history.history['loss'])*100,'%')\n",
        "\n",
        "    plt.plot(history.history['accuracy'],label = 'Training Accuracy')\n",
        "    plt.plot(history.history['loss'],label = 'Training Loss')\n",
        "    plt.plot(history.history['val_accuracy'], label = 'validation Accuracy')\n",
        "    plt.plot(history.history['val_loss'],label = 'validation Loss')\n",
        "    plt.title('Model training')\n",
        "    plt.ylabel('Accuracy')\n",
        "    plt.xlabel('Epoch')\n",
        "    plt.legend()\n",
        "    plt.show()\n",
        "    return history\n",
        "\n",
        "def evaluate_model(model, X,y):\n",
        "    # evaluate the model and return accuracy, precision, recall and f1-score\n",
        "\n",
        "    y_preds = np.round(model.predict(X))\n",
        "    accuracy = accuracy_score(y, y_preds)\n",
        "    accuracy = accuracy_score(y, y_preds)\n",
        "    precision = precision_score(y, y_preds)\n",
        "    recall = recall_score(y, y_preds)\n",
        "    f1 = f1_score(y, y_preds)\n",
        "    print(\"Model Performance in percentage (%)\")\n",
        "    model_results_dict = {'accuracy': accuracy * 100,\n",
        "                          'precision': precision * 100,\n",
        "                          'recall': recall * 100,\n",
        "                          'f1-score': f1 * 100}\n",
        "\n",
        "\n",
        "    return model_results_dict"
      ]
    },
    {
      "cell_type": "markdown",
      "id": "90423ec4-1dd7-4f17-ae8a-0b69d2e44d53",
      "metadata": {
        "id": "90423ec4-1dd7-4f17-ae8a-0b69d2e44d53"
      },
      "source": [
        "### Model_2 Bidirectional LSTM\n",
        "this will effectively improve the networkd accesible information, boosting the context for the algorithm."
      ]
    },
    {
      "cell_type": "code",
      "execution_count": 33,
      "id": "10328778-a612-47cb-8e89-22ae63b66327",
      "metadata": {
        "colab": {
          "base_uri": "https://localhost:8080/",
          "height": 839
        },
        "id": "10328778-a612-47cb-8e89-22ae63b66327",
        "outputId": "c1ee5664-199a-4226-ef98-937dcd836993"
      },
      "outputs": [
        {
          "output_type": "stream",
          "name": "stdout",
          "text": [
            "Epoch 1/20\n",
            "140/140 [==============================] - 20s 88ms/step - loss: 0.0584 - accuracy: 0.9818 - val_loss: 0.1034 - val_accuracy: 0.9812 - lr: 0.0010\n",
            "Epoch 2/20\n",
            "140/140 [==============================] - 11s 76ms/step - loss: 0.0042 - accuracy: 0.9982 - val_loss: 0.0766 - val_accuracy: 0.9821 - lr: 0.0010\n",
            "Epoch 3/20\n",
            "140/140 [==============================] - 11s 78ms/step - loss: 2.3725e-04 - accuracy: 1.0000 - val_loss: 0.1202 - val_accuracy: 0.9839 - lr: 0.0010\n",
            "Epoch 4/20\n",
            "140/140 [==============================] - 13s 90ms/step - loss: 2.9430e-05 - accuracy: 1.0000 - val_loss: 0.1282 - val_accuracy: 0.9839 - lr: 0.0010\n",
            "Epoch 5/20\n",
            "140/140 [==============================] - 11s 75ms/step - loss: 1.6673e-05 - accuracy: 1.0000 - val_loss: 0.1306 - val_accuracy: 0.9839 - lr: 5.0000e-04\n",
            "Epoch 6/20\n",
            "140/140 [==============================] - 11s 77ms/step - loss: 1.4300e-05 - accuracy: 1.0000 - val_loss: 0.1327 - val_accuracy: 0.9839 - lr: 5.0000e-04\n",
            "Epoch 7/20\n",
            "140/140 [==============================] - 11s 79ms/step - loss: 1.2129e-05 - accuracy: 1.0000 - val_loss: 0.1339 - val_accuracy: 0.9839 - lr: 2.5000e-04\n",
            "Epoch 8/20\n",
            "140/140 [==============================] - 10s 71ms/step - loss: 9.7068e-06 - accuracy: 1.0000 - val_loss: 0.1350 - val_accuracy: 0.9839 - lr: 2.5000e-04\n",
            "Epoch 9/20\n",
            "140/140 [==============================] - 11s 75ms/step - loss: 1.0131e-05 - accuracy: 1.0000 - val_loss: 0.1358 - val_accuracy: 0.9839 - lr: 1.2500e-04\n",
            "Train Accuracy:  100.0 %\n",
            "Train Loss:  0.0009706817763799336 %\n"
          ]
        },
        {
          "output_type": "display_data",
          "data": {
            "text/plain": [
              "<Figure size 640x480 with 1 Axes>"
            ],
            "image/png": "[encoded data removed]"
          },
          "metadata": {}
        }
      ],
      "source": [
        "input_layer = layers.Input(shape = (1,), dtype = tf.string)\n",
        "vec_layer = text_vec(input_layer)\n",
        "\n",
        "embedding_layer_model = embedding_layer(vec_layer)\n",
        "\n",
        "bi_lstm = layers.Bidirectional(layers.LSTM(64,\n",
        "                                           activation ='tanh',\n",
        "                                           return_sequences =True))(embedding_layer_model)\n",
        "\n",
        "lstm = layers.Bidirectional(layers.LSTM(64))(bi_lstm)\n",
        "flatten = layers.Flatten()(lstm)\n",
        "dropout = layers.Dropout(.1)(flatten)\n",
        "\n",
        "x = layers.Dense(32, activation = 'relu')(dropout)\n",
        "output_layer = layers.Dense(1, activation ='sigmoid')(x)\n",
        "\n",
        "model_2 = keras.Model(input_layer, output_layer)\n",
        "\n",
        "compile_model(model_2) # Compile the model\n",
        "history_2 = fit_model(model_2, epochs = 20) # fit the model"
      ]
    },
    {
      "cell_type": "markdown",
      "id": "5afc858f-c572-4046-831b-eb37b460f689",
      "metadata": {
        "id": "5afc858f-c572-4046-831b-eb37b460f689"
      },
      "source": [
        "### MODEL_2 EVALUATION"
      ]
    },
    {
      "cell_type": "code",
      "execution_count": 34,
      "id": "e73662b4-59aa-42a3-8839-651e4c4ead0c",
      "metadata": {
        "colab": {
          "base_uri": "https://localhost:8080/"
        },
        "id": "e73662b4-59aa-42a3-8839-651e4c4ead0c",
        "outputId": "bed8eac0-ca9f-4a3f-d4e0-ce3009494e69"
      },
      "outputs": [
        {
          "output_type": "stream",
          "name": "stdout",
          "text": [
            "35/35 [==============================] - 2s 19ms/step\n",
            "Model Performance in percentage (%)\n"
          ]
        },
        {
          "output_type": "execute_result",
          "data": {
            "text/plain": [
              "{'accuracy': 98.38565022421525,\n",
              " 'precision': 97.82608695652173,\n",
              " 'recall': 90.0,\n",
              " 'f1-score': 93.75}"
            ]
          },
          "metadata": {},
          "execution_count": 34
        }
      ],
      "source": [
        "evaluate_model(model_2,X_test,y_test)"
      ]
    },
    {
      "cell_type": "markdown",
      "id": "33dfd632-0efd-4ad9-92f7-029cb0fd575f",
      "metadata": {
        "id": "33dfd632-0efd-4ad9-92f7-029cb0fd575f"
      },
      "source": [
        "### Model- 3 Transfer Learning with USE Encoder\n",
        "**Transfer learning** is an approch where one model generated for one job is utilized as the foundation for model on a different task.\n",
        "\n",
        "**USE  Layer (universal Sentence Encoder)** this converts text into high dimensional vectors that may be used for text categorization, semantic similarity and other language applications\n",
        "\n",
        "The USE is from Tensorflow_hub  and can be used as a layer **.kerasLayer()**"
      ]
    },
    {
      "cell_type": "code",
      "execution_count": 36,
      "id": "f65afc58-61e6-4c78-9ee6-c78c8c3d7ffe",
      "metadata": {
        "id": "f65afc58-61e6-4c78-9ee6-c78c8c3d7ffe"
      },
      "outputs": [],
      "source": [
        "import tensorflow_hub as hub"
      ]
    },
    {
      "cell_type": "markdown",
      "id": "43c41ad0-0963-4130-bc1c-95ba338e8438",
      "metadata": {
        "id": "43c41ad0-0963-4130-bc1c-95ba338e8438"
      },
      "source": [
        "### Model_3 with Sequential api"
      ]
    },
    {
      "cell_type": "code",
      "execution_count": 37,
      "id": "400d7396-b4fb-4715-a12d-f70cbed14d66",
      "metadata": {
        "id": "400d7396-b4fb-4715-a12d-f70cbed14d66"
      },
      "outputs": [],
      "source": [
        "model_3 = keras.Sequential()"
      ]
    },
    {
      "cell_type": "markdown",
      "id": "9d9d9f0d-4e59-47ff-9a2f-6bca7624bb19",
      "metadata": {
        "id": "9d9d9f0d-4e59-47ff-9a2f-6bca7624bb19"
      },
      "source": [
        "### Universal-sentence-encoderlayer"
      ]
    },
    {
      "cell_type": "code",
      "execution_count": 38,
      "id": "dcb100e6-001d-4620-b90b-404e374deb11",
      "metadata": {
        "colab": {
          "base_uri": "https://localhost:8080/",
          "height": 680
        },
        "id": "dcb100e6-001d-4620-b90b-404e374deb11",
        "outputId": "42705238-6eae-46e9-aa6e-d83d4145f3c0"
      },
      "outputs": [
        {
          "output_type": "stream",
          "name": "stdout",
          "text": [
            "Epoch 1/5\n",
            "140/140 [==============================] - 10s 48ms/step - loss: 0.2772 - accuracy: 0.9215 - val_loss: 0.1075 - val_accuracy: 0.9695 - lr: 0.0010\n",
            "Epoch 2/5\n",
            "140/140 [==============================] - 4s 29ms/step - loss: 0.0779 - accuracy: 0.9778 - val_loss: 0.0689 - val_accuracy: 0.9767 - lr: 0.0010\n",
            "Epoch 3/5\n",
            "140/140 [==============================] - 6s 46ms/step - loss: 0.0556 - accuracy: 0.9838 - val_loss: 0.0591 - val_accuracy: 0.9794 - lr: 0.0010\n",
            "Epoch 4/5\n",
            "140/140 [==============================] - 4s 30ms/step - loss: 0.0465 - accuracy: 0.9863 - val_loss: 0.0539 - val_accuracy: 0.9821 - lr: 0.0010\n",
            "Epoch 5/5\n",
            "140/140 [==============================] - 4s 30ms/step - loss: 0.0403 - accuracy: 0.9883 - val_loss: 0.0521 - val_accuracy: 0.9830 - lr: 0.0010\n",
            "Train Accuracy:  98.8332986831665 %\n",
            "Train Loss:  4.025813192129135 %\n"
          ]
        },
        {
          "output_type": "display_data",
          "data": {
            "text/plain": [
              "<Figure size 640x480 with 1 Axes>"
            ],
            "image/png": "[encoded data removed]"
          },
          "metadata": {}
        }
      ],
      "source": [
        "# directly from tfhub\n",
        "use_layer = hub.KerasLayer(\"https://tfhub.dev/google/universal-sentence-encoder/4\",\n",
        "                           trainable = False,\n",
        "                           input_shape =[],\n",
        "                           dtype = tf.string,\n",
        "                           name ='USE')\n",
        "\n",
        "model_3.add(use_layer)\n",
        "model_3.add(layers.Dropout(0.2))\n",
        "model_3.add(layers.Dense(64, activation = keras.activations.relu))\n",
        "model_3.add(layers.Dense(1, activation = keras.activations.sigmoid))\n",
        "\n",
        "compile_model(model_3)\n",
        "\n",
        "history_3 = fit_model(model_3, epochs =5)"
      ]
    },
    {
      "cell_type": "markdown",
      "id": "d1ac9b9c-3033-4541-a929-63c5414330e4",
      "metadata": {
        "id": "d1ac9b9c-3033-4541-a929-63c5414330e4"
      },
      "source": [
        "### Now evaluatig all the models"
      ]
    },
    {
      "cell_type": "code",
      "execution_count": 39,
      "id": "5b192670-90db-4e81-a2bf-c504827ff46c",
      "metadata": {
        "colab": {
          "base_uri": "https://localhost:8080/",
          "height": 296
        },
        "id": "5b192670-90db-4e81-a2bf-c504827ff46c",
        "outputId": "7dd23b1e-1dd4-42d7-a022-6ebe0d9cc589"
      },
      "outputs": [
        {
          "output_type": "stream",
          "name": "stdout",
          "text": [
            "Model Performance in percentage (%)\n",
            "35/35 [==============================] - 0s 2ms/step\n",
            "Model Performance in percentage (%)\n",
            "35/35 [==============================] - 0s 11ms/step\n",
            "Model Performance in percentage (%)\n",
            "35/35 [==============================] - 1s 10ms/step\n",
            "Model Performance in percentage (%)\n"
          ]
        },
        {
          "output_type": "execute_result",
          "data": {
            "text/plain": [
              "                              accuracy   precision     recall   f1-score\n",
              "MultinomialNB Model          96.233184  100.000000  72.000000  83.720930\n",
              "Custom-Vec-Embedding Model   98.116592   98.496241  87.333333  92.579505\n",
              "Bidirectional-LSTM Model     98.385650   97.826087  90.000000  93.750000\n",
              "USE-Transfer Learning Model  98.295964   97.122302  90.000000  93.425606"
            ],
            "text/html": [
              "\n",
              "  <div id=\"df-d911c791-59a9-41f8-a09d-3dbf91310eb2\" class=\"colab-df-container\">\n",
              "    <div>\n",
              "<style scoped>\n",
              "    .dataframe tbody tr th:only-of-type {\n",
              "        vertical-align: middle;\n",
              "    }\n",
              "\n",
              "    .dataframe tbody tr th {\n",
              "        vertical-align: top;\n",
              "    }\n",
              "\n",
              "    .dataframe thead th {\n",
              "        text-align: right;\n",
              "    }\n",
              "</style>\n",
              "<table border=\"1\" class=\"dataframe\">\n",
              "  <thead>\n",
              "    <tr style=\"text-align: right;\">\n",
              "      <th></th>\n",
              "      <th>accuracy</th>\n",
              "      <th>precision</th>\n",
              "      <th>recall</th>\n",
              "      <th>f1-score</th>\n",
              "    </tr>\n",
              "  </thead>\n",
              "  <tbody>\n",
              "    <tr>\n",
              "      <th>MultinomialNB Model</th>\n",
              "      <td>96.233184</td>\n",
              "      <td>100.000000</td>\n",
              "      <td>72.000000</td>\n",
              "      <td>83.720930</td>\n",
              "    </tr>\n",
              "    <tr>\n",
              "      <th>Custom-Vec-Embedding Model</th>\n",
              "      <td>98.116592</td>\n",
              "      <td>98.496241</td>\n",
              "      <td>87.333333</td>\n",
              "      <td>92.579505</td>\n",
              "    </tr>\n",
              "    <tr>\n",
              "      <th>Bidirectional-LSTM Model</th>\n",
              "      <td>98.385650</td>\n",
              "      <td>97.826087</td>\n",
              "      <td>90.000000</td>\n",
              "      <td>93.750000</td>\n",
              "    </tr>\n",
              "    <tr>\n",
              "      <th>USE-Transfer Learning Model</th>\n",
              "      <td>98.295964</td>\n",
              "      <td>97.122302</td>\n",
              "      <td>90.000000</td>\n",
              "      <td>93.425606</td>\n",
              "    </tr>\n",
              "  </tbody>\n",
              "</table>\n",
              "</div>\n",
              "    <div class=\"colab-df-buttons\">\n",
              "\n",
              "  <div class=\"colab-df-container\">\n",
              "    <button class=\"colab-df-convert\" onclick=\"convertToInteractive('df-d911c791-59a9-41f8-a09d-3dbf91310eb2')\"\n",
              "            title=\"Convert this dataframe to an interactive table.\"\n",
              "            style=\"display:none;\">\n",
              "\n",
              "  <svg xmlns=\"http://www.w3.org/2000/svg\" height=\"24px\" viewBox=\"0 -960 960 960\">\n",
              "    <path d=\"M120-120v-720h720v720H120Zm60-500h600v-160H180v160Zm220 220h160v-160H400v160Zm0 220h160v-160H400v160ZM180-400h160v-160H180v160Zm440 0h160v-160H620v160ZM180-180h160v-160H180v160Zm440 0h160v-160H620v160Z\"/>\n",
              "  </svg>\n",
              "    </button>\n",
              "\n",
              "  <style>\n",
              "    .colab-df-container {\n",
              "      display:flex;\n",
              "      gap: 12px;\n",
              "    }\n",
              "\n",
              "    .colab-df-convert {\n",
              "      background-color: #E8F0FE;\n",
              "      border: none;\n",
              "      border-radius: 50%;\n",
              "      cursor: pointer;\n",
              "      display: none;\n",
              "      fill: #1967D2;\n",
              "      height: 32px;\n",
              "      padding: 0 0 0 0;\n",
              "      width: 32px;\n",
              "    }\n",
              "\n",
              "    .colab-df-convert:hover {\n",
              "      background-color: #E2EBFA;\n",
              "      box-shadow: 0px 1px 2px rgba(60, 64, 67, 0.3), 0px 1px 3px 1px rgba(60, 64, 67, 0.15);\n",
              "      fill: #174EA6;\n",
              "    }\n",
              "\n",
              "    .colab-df-buttons div {\n",
              "      margin-bottom: 4px;\n",
              "    }\n",
              "\n",
              "    [theme=dark] .colab-df-convert {\n",
              "      background-color: #3B4455;\n",
              "      fill: #D2E3FC;\n",
              "    }\n",
              "\n",
              "    [theme=dark] .colab-df-convert:hover {\n",
              "      background-color: #434B5C;\n",
              "      box-shadow: 0px 1px 3px 1px rgba(0, 0, 0, 0.15);\n",
              "      filter: drop-shadow(0px 1px 2px rgba(0, 0, 0, 0.3));\n",
              "      fill: #FFFFFF;\n",
              "    }\n",
              "  </style>\n",
              "\n",
              "    <script>\n",
              "      const buttonEl =\n",
              "        document.querySelector('#df-d911c791-59a9-41f8-a09d-3dbf91310eb2 button.colab-df-convert');\n",
              "      buttonEl.style.display =\n",
              "        google.colab.kernel.accessAllowed ? 'block' : 'none';\n",
              "\n",
              "      async function convertToInteractive(key) {\n",
              "        const element = document.querySelector('#df-d911c791-59a9-41f8-a09d-3dbf91310eb2');\n",
              "        const dataTable =\n",
              "          await google.colab.kernel.invokeFunction('convertToInteractive',\n",
              "                                                    [key], {});\n",
              "        if (!dataTable) return;\n",
              "\n",
              "        const docLinkHtml = 'Like what you see? Visit the ' +\n",
              "          '<a target=\"_blank\" href=https://colab.research.google.com/notebooks/data_table.ipynb>data table notebook</a>'\n",
              "          + ' to learn more about interactive tables.';\n",
              "        element.innerHTML = '';\n",
              "        dataTable['output_type'] = 'display_data';\n",
              "        await google.colab.output.renderOutput(dataTable, element);\n",
              "        const docLink = document.createElement('div');\n",
              "        docLink.innerHTML = docLinkHtml;\n",
              "        element.appendChild(docLink);\n",
              "      }\n",
              "    </script>\n",
              "  </div>\n",
              "\n",
              "\n",
              "<div id=\"df-a47caeca-7794-4540-9a4c-3a3915062860\">\n",
              "  <button class=\"colab-df-quickchart\" onclick=\"quickchart('df-a47caeca-7794-4540-9a4c-3a3915062860')\"\n",
              "            title=\"Suggest charts\"\n",
              "            style=\"display:none;\">\n",
              "\n",
              "<svg xmlns=\"http://www.w3.org/2000/svg\" height=\"24px\"viewBox=\"0 0 24 24\"\n",
              "     width=\"24px\">\n",
              "    <g>\n",
              "        <path d=\"M19 3H5c-1.1 0-2 .9-2 2v14c0 1.1.9 2 2 2h14c1.1 0 2-.9 2-2V5c0-1.1-.9-2-2-2zM9 17H7v-7h2v7zm4 0h-2V7h2v10zm4 0h-2v-4h2v4z\"/>\n",
              "    </g>\n",
              "</svg>\n",
              "  </button>\n",
              "\n",
              "<style>\n",
              "  .colab-df-quickchart {\n",
              "      --bg-color: #E8F0FE;\n",
              "      --fill-color: #1967D2;\n",
              "      --hover-bg-color: #E2EBFA;\n",
              "      --hover-fill-color: #174EA6;\n",
              "      --disabled-fill-color: #AAA;\n",
              "      --disabled-bg-color: #DDD;\n",
              "  }\n",
              "\n",
              "  [theme=dark] .colab-df-quickchart {\n",
              "      --bg-color: #3B4455;\n",
              "      --fill-color: #D2E3FC;\n",
              "      --hover-bg-color: #434B5C;\n",
              "      --hover-fill-color: #FFFFFF;\n",
              "      --disabled-bg-color: #3B4455;\n",
              "      --disabled-fill-color: #666;\n",
              "  }\n",
              "\n",
              "  .colab-df-quickchart {\n",
              "    background-color: var(--bg-color);\n",
              "    border: none;\n",
              "    border-radius: 50%;\n",
              "    cursor: pointer;\n",
              "    display: none;\n",
              "    fill: var(--fill-color);\n",
              "    height: 32px;\n",
              "    padding: 0;\n",
              "    width: 32px;\n",
              "  }\n",
              "\n",
              "  .colab-df-quickchart:hover {\n",
              "    background-color: var(--hover-bg-color);\n",
              "    box-shadow: 0 1px 2px rgba(60, 64, 67, 0.3), 0 1px 3px 1px rgba(60, 64, 67, 0.15);\n",
              "    fill: var(--button-hover-fill-color);\n",
              "  }\n",
              "\n",
              "  .colab-df-quickchart-complete:disabled,\n",
              "  .colab-df-quickchart-complete:disabled:hover {\n",
              "    background-color: var(--disabled-bg-color);\n",
              "    fill: var(--disabled-fill-color);\n",
              "    box-shadow: none;\n",
              "  }\n",
              "\n",
              "  .colab-df-spinner {\n",
              "    border: 2px solid var(--fill-color);\n",
              "    border-color: transparent;\n",
              "    border-bottom-color: var(--fill-color);\n",
              "    animation:\n",
              "      spin 1s steps(1) infinite;\n",
              "  }\n",
              "\n",
              "  @keyframes spin {\n",
              "    0% {\n",
              "      border-color: transparent;\n",
              "      border-bottom-color: var(--fill-color);\n",
              "      border-left-color: var(--fill-color);\n",
              "    }\n",
              "    20% {\n",
              "      border-color: transparent;\n",
              "      border-left-color: var(--fill-color);\n",
              "      border-top-color: var(--fill-color);\n",
              "    }\n",
              "    30% {\n",
              "      border-color: transparent;\n",
              "      border-left-color: var(--fill-color);\n",
              "      border-top-color: var(--fill-color);\n",
              "      border-right-color: var(--fill-color);\n",
              "    }\n",
              "    40% {\n",
              "      border-color: transparent;\n",
              "      border-right-color: var(--fill-color);\n",
              "      border-top-color: var(--fill-color);\n",
              "    }\n",
              "    60% {\n",
              "      border-color: transparent;\n",
              "      border-right-color: var(--fill-color);\n",
              "    }\n",
              "    80% {\n",
              "      border-color: transparent;\n",
              "      border-right-color: var(--fill-color);\n",
              "      border-bottom-color: var(--fill-color);\n",
              "    }\n",
              "    90% {\n",
              "      border-color: transparent;\n",
              "      border-bottom-color: var(--fill-color);\n",
              "    }\n",
              "  }\n",
              "</style>\n",
              "\n",
              "  <script>\n",
              "    async function quickchart(key) {\n",
              "      const quickchartButtonEl =\n",
              "        document.querySelector('#' + key + ' button');\n",
              "      quickchartButtonEl.disabled = true;  // To prevent multiple clicks.\n",
              "      quickchartButtonEl.classList.add('colab-df-spinner');\n",
              "      try {\n",
              "        const charts = await google.colab.kernel.invokeFunction(\n",
              "            'suggestCharts', [key], {});\n",
              "      } catch (error) {\n",
              "        console.error('Error during call to suggestCharts:', error);\n",
              "      }\n",
              "      quickchartButtonEl.classList.remove('colab-df-spinner');\n",
              "      quickchartButtonEl.classList.add('colab-df-quickchart-complete');\n",
              "    }\n",
              "    (() => {\n",
              "      let quickchartButtonEl =\n",
              "        document.querySelector('#df-a47caeca-7794-4540-9a4c-3a3915062860 button');\n",
              "      quickchartButtonEl.style.display =\n",
              "        google.colab.kernel.accessAllowed ? 'block' : 'none';\n",
              "    })();\n",
              "  </script>\n",
              "</div>\n",
              "\n",
              "  <div id=\"id_d7d10905-fd9b-453c-93c5-ee5ef2f7aee9\">\n",
              "    <style>\n",
              "      .colab-df-generate {\n",
              "        background-color: #E8F0FE;\n",
              "        border: none;\n",
              "        border-radius: 50%;\n",
              "        cursor: pointer;\n",
              "        display: none;\n",
              "        fill: #1967D2;\n",
              "        height: 32px;\n",
              "        padding: 0 0 0 0;\n",
              "        width: 32px;\n",
              "      }\n",
              "\n",
              "      .colab-df-generate:hover {\n",
              "        background-color: #E2EBFA;\n",
              "        box-shadow: 0px 1px 2px rgba(60, 64, 67, 0.3), 0px 1px 3px 1px rgba(60, 64, 67, 0.15);\n",
              "        fill: #174EA6;\n",
              "      }\n",
              "\n",
              "      [theme=dark] .colab-df-generate {\n",
              "        background-color: #3B4455;\n",
              "        fill: #D2E3FC;\n",
              "      }\n",
              "\n",
              "      [theme=dark] .colab-df-generate:hover {\n",
              "        background-color: #434B5C;\n",
              "        box-shadow: 0px 1px 3px 1px rgba(0, 0, 0, 0.15);\n",
              "        filter: drop-shadow(0px 1px 2px rgba(0, 0, 0, 0.3));\n",
              "        fill: #FFFFFF;\n",
              "      }\n",
              "    </style>\n",
              "    <button class=\"colab-df-generate\" onclick=\"generateWithVariable('total_results')\"\n",
              "            title=\"Generate code using this dataframe.\"\n",
              "            style=\"display:none;\">\n",
              "\n",
              "  <svg xmlns=\"http://www.w3.org/2000/svg\" height=\"24px\"viewBox=\"0 0 24 24\"\n",
              "       width=\"24px\">\n",
              "    <path d=\"M7,19H8.4L18.45,9,17,7.55,7,17.6ZM5,21V16.75L18.45,3.32a2,2,0,0,1,2.83,0l1.4,1.43a1.91,1.91,0,0,1,.58,1.4,1.91,1.91,0,0,1-.58,1.4L9.25,21ZM18.45,9,17,7.55Zm-12,3A5.31,5.31,0,0,0,4.9,8.1,5.31,5.31,0,0,0,1,6.5,5.31,5.31,0,0,0,4.9,4.9,5.31,5.31,0,0,0,6.5,1,5.31,5.31,0,0,0,8.1,4.9,5.31,5.31,0,0,0,12,6.5,5.46,5.46,0,0,0,6.5,12Z\"/>\n",
              "  </svg>\n",
              "    </button>\n",
              "    <script>\n",
              "      (() => {\n",
              "      const buttonEl =\n",
              "        document.querySelector('#id_d7d10905-fd9b-453c-93c5-ee5ef2f7aee9 button.colab-df-generate');\n",
              "      buttonEl.style.display =\n",
              "        google.colab.kernel.accessAllowed ? 'block' : 'none';\n",
              "\n",
              "      buttonEl.onclick = () => {\n",
              "        google.colab.notebook.generateWithVariable('total_results');\n",
              "      }\n",
              "      })();\n",
              "    </script>\n",
              "  </div>\n",
              "\n",
              "    </div>\n",
              "  </div>\n"
            ]
          },
          "metadata": {},
          "execution_count": 39
        }
      ],
      "source": [
        "baseline_model_results = evaluate_model(baseline_model, X_test_vec, y_test)\n",
        "model_1_results = evaluate_model(model_1,X_test,y_test)\n",
        "model_2_results = evaluate_model(model_2,X_test,y_test)\n",
        "model_3_results = evaluate_model(model_3,X_test,y_test)\n",
        "\n",
        "total_results = pd.DataFrame({'MultinomialNB Model' : baseline_model_results,\n",
        "                              'Custom-Vec-Embedding Model': model_1_results,\n",
        "                              'Bidirectional-LSTM Model':model_2_results,\n",
        "                              'USE-Transfer Learning Model':model_3_results}).transpose()\n",
        "\n",
        "total_results\n",
        ""
      ]
    },
    {
      "cell_type": "markdown",
      "id": "74ce3b01-15a3-439c-9834-174f1f49c9f0",
      "metadata": {
        "id": "74ce3b01-15a3-439c-9834-174f1f49c9f0"
      },
      "source": [
        "## Results\n",
        "All for models deliver excelent results, Thus Comparing them might be difficult.\n",
        "### Problem\n",
        "I have an unbalanced dataset; most of my data points contain the label “ham,” which is natural because most SMS are ham. Accuracy cannot be an appropriate metric in certain situations.\n",
        "\n",
        "project by Joseph Wathome"
      ]
    }
  ],
  "metadata": {
    "kernelspec": {
      "display_name": "Python 3 (ipykernel)",
      "language": "python",
      "name": "python3"
    },
    "language_info": {
      "codemirror_mode": {
        "name": "ipython",
        "version": 3
      },
      "file_extension": ".py",
      "mimetype": "text/x-python",
      "name": "python",
      "nbconvert_exporter": "python",
      "pygments_lexer": "ipython3",
      "version": "3.11.5"
    },
    "colab": {
      "provenance": []
    }
  },
  "nbformat": 4,
  "nbformat_minor": 5
}